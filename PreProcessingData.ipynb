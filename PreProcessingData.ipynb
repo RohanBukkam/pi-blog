{
 "cells": [
  {
   "cell_type": "code",
   "execution_count": 1,
   "metadata": {},
   "outputs": [],
   "source": [
    "#Import the required libraries\n",
    "#import pandas as pd\n",
    "import numpy as np\n",
    "import bz2\n",
    "import re\n",
    "import pickle"
   ]
  },
  {
   "cell_type": "code",
   "execution_count": null,
   "metadata": {},
   "outputs": [],
   "source": [
    "#Since the labels in the dataset are in the format :  \n",
    "#__label__1 for negative comment\n",
    "#__label__2 for postive comment\n",
    "#This function is will extract the 9th character i.e 1/2 of the label \n",
    "#And negative will be represented as 0 i.e (1-1)\n",
    "#And positive will be represented as 1 i.e (2-1)\n",
    "#Every comment in the dataset will be read and according labels and texts will be seperated for further analysis.\n",
    "\n",
    "def get_labels_and_texts(file):\n",
    "    labels = []\n",
    "    texts = []\n",
    "    for line in bz2.BZ2File(file):\n",
    "        x = line.decode(\"utf-8\")\n",
    "        labels.append(int(x[9]) - 1)\n",
    "        texts.append(x[10:].strip())\n",
    "    return np.array(labels), texts"
   ]
  },
  {
   "cell_type": "code",
   "execution_count": null,
   "metadata": {},
   "outputs": [],
   "source": [
    "#Reading the training and testing dataset\n",
    "\n",
    "train_labels, train_texts = get_labels_and_texts('/content/drive/My Drive/Colab Notebooks/NLP with tf/train.ft.txt.bz2')\n",
    "test_labels, test_texts = get_labels_and_texts('/content/drive/My Drive/Colab Notebooks/NLP with tf/test.ft.txt.bz2')"
   ]
  },
  {
   "cell_type": "code",
   "execution_count": 5,
   "metadata": {},
   "outputs": [],
   "source": []
  },
  {
   "cell_type": "code",
   "execution_count": 6,
   "metadata": {},
   "outputs": [],
   "source": [
    "train_texts = normalize_texts(train_texts)\n",
    "test_texts = normalize_texts(test_texts)"
   ]
  }
 ],
 "metadata": {
  "kernelspec": {
   "display_name": "Python 3",
   "language": "python",
   "name": "python3"
  },
  "language_info": {
   "codemirror_mode": {
    "name": "ipython",
    "version": 3
   },
   "file_extension": ".py",
   "mimetype": "text/x-python",
   "name": "python",
   "nbconvert_exporter": "python",
   "pygments_lexer": "ipython3",
   "version": "3.6.4"
  }
 },
 "nbformat": 4,
 "nbformat_minor": 2
}

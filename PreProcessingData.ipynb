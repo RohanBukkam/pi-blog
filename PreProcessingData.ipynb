{
 "cells": [
  {
   "cell_type": "code",
   "execution_count": 1,
   "metadata": {},
   "outputs": [],
   "source": [
    "#Import the required libraries\n",
    "#import pandas as pd\n",
    "import numpy as np\n",
    "import bz2\n",
    "import re\n",
    "import pickle\n",
    "from sklearn.model_selection import train_test_split"
   ]
  },
  {
   "cell_type": "code",
   "execution_count": null,
   "metadata": {},
   "outputs": [],
   "source": [
    "#Since the labels in the dataset are in the format :  \n",
    "#__label__1 for negative comment\n",
    "#__label__2 for postive comment\n",
    "#This function is will extract the 10th character i.e 1/2 of the label \n",
    "#And negative will be represented as 0 i.e (1-1)\n",
    "#And positive will be represented as 1 i.e (2-1)\n",
    "#Every comment in the dataset will be read and according labels and texts will be seperated for further analysis.\n",
    "\n",
    "def get_labels_and_texts(file):\n",
    "    labels = []\n",
    "    texts = []\n",
    "    for line in bz2.BZ2File(file):\n",
    "        x = line.decode(\"utf-8\")\n",
    "        labels.append(int(x[9]) - 1)\n",
    "        texts.append(x[10:].strip())\n",
    "    return np.array(labels), texts"
   ]
  },
  {
   "cell_type": "code",
   "execution_count": null,
   "metadata": {},
   "outputs": [],
   "source": [
    "#Reading the training and testing dataset\n",
    "\n",
    "train_labels, train_texts = get_labels_and_texts('/content/drive/MyDrive/train.ft.txt.bz2')\n",
    "test_labels, test_texts = get_labels_and_texts('/content/drive/MyDrive/test.ft.txt.bz2')"
   ]
  },
  {
   "cell_type": "code",
   "execution_count": null,
   "metadata": {},
   "outputs": [],
   "source": [
    "#Function to remove special characters and digits\n",
    "\n",
    "NON_ALPHANUM = re.compile(r'[\\W]')\n",
    "NON_ASCII = re.compile(r'[^a-z0-1\\s]')\n",
    "def normalize_texts(texts):\n",
    "    \n",
    "    \"\"\"\n",
    "    Returns the text removing punctuations, non ascii characters and non-binary digits\n",
    "    \n",
    "    Parameters:\n",
    "        texts(list)            : list containing string elements\n",
    "        \n",
    "    \n",
    "    Returns:\n",
    "        normalized_texts(list) : list containing cleaned string elements\n",
    "    \n",
    "    \"\"\"    \n",
    "    \n",
    "    normalized_texts = []\n",
    "    for text in texts:\n",
    "        lower = text.lower()\n",
    "        no_punctuation = NON_ALPHANUM.sub(r' ', lower)\n",
    "        no_non_ascii = NON_ASCII.sub(r'', no_punctuation)\n",
    "        normalized_texts.append(no_non_ascii)\n",
    "    return normalized_texts"
   ]
  },
  {
   "cell_type": "code",
   "execution_count": null,
   "metadata": {},
   "outputs": [],
   "source": [
    "#Clean data\n",
    "\n",
    "train_texts = normalize_texts(train_texts)\n",
    "test_texts = normalize_texts(test_texts)"
   ]
  },
  {
   "cell_type": "code",
   "execution_count": null,
   "metadata": {},
   "outputs": [],
   "source": [
    "#Create train and validation split\n",
    "\n",
    "train_texts, val_texts, train_labels, val_labels = train_test_split(\n",
    "    train_texts, train_labels, random_state = 42, test_size=0.2)"
   ]
  },
  {
   "cell_type": "code",
   "execution_count": null,
   "metadata": {},
   "outputs": [],
   "source": [
    "#Save cleaned data to drive\n",
    "\n",
    "with open('/content/drive/MyDrive/train_texts', 'wb') as f:\n",
    "  pickle.dump(train_texts,f)\n",
    "\n",
    "with open('/content/drive/MyDrive/train_labels', 'wb') as f:\n",
    "  pickle.dump(train_labels,f)\n",
    "\n",
    "with open('/content/drive/MyDrive/val_texts', 'wb') as f:\n",
    "  pickle.dump(val_texts,f)\n",
    "\n",
    "with open('/content/drive/MyDrive/val_labels', 'wb') as f:\n",
    "  pickle.dump(val_labels,f)\n",
    "\n",
    "with open('/content/drive/MyDrive/test_texts', 'wb') as f:\n",
    "  pickle.dump(test_texts,f)\n",
    "\n",
    "with open('/content/drive/MyDrive/test_labels', 'wb') as f:\n",
    "  pickle.dump(test_labels,f)"
   ]
  }
 ],
 "metadata": {
  "kernelspec": {
   "display_name": "Python 3",
   "language": "python",
   "name": "python3"
  },
  "language_info": {
   "codemirror_mode": {
    "name": "ipython",
    "version": 3
   },
   "file_extension": ".py",
   "mimetype": "text/x-python",
   "name": "python",
   "nbconvert_exporter": "python",
   "pygments_lexer": "ipython3",
   "version": "3.7.9"
  }
 },
 "nbformat": 4,
 "nbformat_minor": 2
}

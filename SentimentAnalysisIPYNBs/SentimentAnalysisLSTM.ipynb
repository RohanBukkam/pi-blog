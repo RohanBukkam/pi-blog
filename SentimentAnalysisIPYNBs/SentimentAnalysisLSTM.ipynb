{
 "cells": [
  {
   "cell_type": "code",
   "execution_count": null,
   "metadata": {
    "id": "ULJiDswAYU_0"
   },
   "outputs": [],
   "source": [
    "import pandas as pd\n",
    "import numpy as np\n",
    "import matplotlib.pyplot as plt\n",
    "import tensorflow as tf\n",
    "from tensorflow.keras.preprocessing.text import Tokenizer\n",
    "from tensorflow.keras.preprocessing.sequence import pad_sequences\n",
    "import bz2\n",
    "from sklearn.metrics import f1_score, roc_auc_score, accuracy_score\n",
    "import re\n",
    "import pickle\n",
    "from sklearn.model_selection import train_test_split"
   ]
  },
  {
   "cell_type": "code",
   "execution_count": null,
   "metadata": {
    "id": "4SqQJgURXFoK"
   },
   "outputs": [],
   "source": [
    "#Load normalized data\n",
    "\n",
    "\n",
    "with open('/content/drive/MyDrive/train_texts', 'rb') as f:\n",
    "  train_texts = pickle.load(f)\n",
    "\n",
    "with open('/content/drive/MyDrive/train_labels', 'rb') as f:\n",
    "  train_labels = pickle.load(f)\n",
    "\n",
    "with open('/content/drive/MyDrive/val_texts', 'rb') as f:\n",
    "  val_texts = pickle.load(f)\n",
    "\n",
    "with open('/content/drive/MyDrive/val_labels', 'rb') as f:\n",
    "  val_labels = pickle.load(f)\n"
   ]
  },
  {
   "cell_type": "code",
   "execution_count": null,
   "metadata": {
    "id": "H-4nT12sH4oh"
   },
   "outputs": [],
   "source": [
    "#Define parameters\n",
    "\n",
    "vocab_size = 50000\n",
    "oov_tok = \"<OOV>\"\n"
   ]
  },
  {
   "cell_type": "code",
   "execution_count": null,
   "metadata": {
    "id": "gLze7pQahTVG"
   },
   "outputs": [],
   "source": [
    "#Load tokenizer\n",
    "\n",
    "with open('/content/drive/MyDrive/tokenizer50k.pickle', 'rb') as handle:\n",
    "  tokenizer = pickle.load(handle)"
   ]
  },
  {
   "cell_type": "code",
   "execution_count": null,
   "metadata": {
    "colab": {
     "base_uri": "https://localhost:8080/",
     "height": 35
    },
    "id": "9xE7kj3FE02d",
    "outputId": "950b7104-92cd-408a-b102-8bcc03e3a997"
   },
   "outputs": [
    {
     "data": {
      "text/plain": [
       "789951"
      ]
     },
     "execution_count": 4,
     "metadata": {
      "tags": []
     },
     "output_type": "execute_result"
    }
   ],
   "source": [
    "'''\n",
    "word_index = tokenizer.word_index\n",
    "vocab_size=len(word_index)\n",
    "vocab_size\n",
    "'''"
   ]
  },
  {
   "cell_type": "code",
   "execution_count": null,
   "metadata": {
    "colab": {
     "base_uri": "https://localhost:8080/",
     "height": 35
    },
    "id": "Vq2iHfa8NcZ5",
    "outputId": "0af9e49b-e7df-4dfb-8b5c-5c55e41bcc0c"
   },
   "outputs": [
    {
     "data": {
      "text/plain": [
       "789952"
      ]
     },
     "execution_count": 22,
     "metadata": {
      "tags": []
     },
     "output_type": "execute_result"
    }
   ],
   "source": [
    "'''\n",
    "word_index = tokenizer.word_index\n",
    "vocab_size=len(word_index)\n",
    "vocab_size+=1\n",
    "vocab_size\n",
    "[list(word_index)[-1]]\n",
    "'''"
   ]
  },
  {
   "cell_type": "code",
   "execution_count": null,
   "metadata": {
    "colab": {
     "base_uri": "https://localhost:8080/",
     "height": 35
    },
    "id": "xO_rUZPxUAVn",
    "outputId": "c0952042-2272-4e26-a177-ec7c8fd471e7"
   },
   "outputs": [
    {
     "data": {
      "text/plain": [
       "['<OOV>']"
      ]
     },
     "execution_count": 12,
     "metadata": {
      "tags": []
     },
     "output_type": "execute_result"
    }
   ],
   "source": [
    "[list(tokenizer.word_index)[0]]"
   ]
  },
  {
   "cell_type": "code",
   "execution_count": null,
   "metadata": {
    "colab": {
     "base_uri": "https://localhost:8080/",
     "height": 35
    },
    "id": "04-hYwpyI7Yj",
    "outputId": "bd89aa01-2244-48e2-91b6-a97af75d1666"
   },
   "outputs": [
    {
     "data": {
      "text/plain": [
       "[[1]]"
      ]
     },
     "execution_count": 14,
     "metadata": {
      "tags": []
     },
     "output_type": "execute_result"
    }
   ],
   "source": [
    "tokenizer.texts_to_sequences(['omkarsawant'])"
   ]
  },
  {
   "cell_type": "code",
   "execution_count": null,
   "metadata": {
    "id": "CueXMxduc2lI"
   },
   "outputs": [],
   "source": [
    "#Tokenize train and val sentences\n",
    "\n",
    "train_texts = tokenizer.texts_to_sequences(train_texts)\n",
    "val_texts = tokenizer.texts_to_sequences(val_texts)"
   ]
  },
  {
   "cell_type": "code",
   "execution_count": null,
   "metadata": {
    "colab": {
     "base_uri": "https://localhost:8080/",
     "height": 35
    },
    "id": "BY2eemhkhDUA",
    "outputId": "51e9d563-fb7e-46a9-8e7c-fab028f6af61"
   },
   "outputs": [
    {
     "data": {
      "text/plain": [
       "257"
      ]
     },
     "execution_count": 16,
     "metadata": {
      "tags": []
     },
     "output_type": "execute_result"
    }
   ],
   "source": [
    "#Define parameters\n",
    "\n",
    "trunc_type='post'\n",
    "max_length = max(len(train_ex) for train_ex in train_texts)\n",
    "max_length"
   ]
  },
  {
   "cell_type": "code",
   "execution_count": null,
   "metadata": {
    "id": "BRrYBq6yedme"
   },
   "outputs": [],
   "source": [
    "#Padd train and val sentences to get consistent length\n",
    "\n",
    "train_texts = pad_sequences(train_texts, maxlen=max_length, truncating=trunc_type)\n",
    "val_texts = pad_sequences(val_texts, maxlen=max_length, truncating=trunc_type)"
   ]
  },
  {
   "cell_type": "code",
   "execution_count": null,
   "metadata": {
    "colab": {
     "base_uri": "https://localhost:8080/",
     "height": 366
    },
    "id": "HwTwQzLEm359",
    "outputId": "b5f382f3-2003-4b73-c31f-b1f803f02720"
   },
   "outputs": [
    {
     "name": "stdout",
     "output_type": "stream",
     "text": [
      "257 50000 50\n",
      "Model: \"sequential_3\"\n",
      "_________________________________________________________________\n",
      "Layer (type)                 Output Shape              Param #   \n",
      "=================================================================\n",
      "embedding_3 (Embedding)      (None, 257, 50)           2500000   \n",
      "_________________________________________________________________\n",
      "dropout_6 (Dropout)          (None, 257, 50)           0         \n",
      "_________________________________________________________________\n",
      "lstm_3 (LSTM)                (None, 128)               91648     \n",
      "_________________________________________________________________\n",
      "dropout_7 (Dropout)          (None, 128)               0         \n",
      "_________________________________________________________________\n",
      "dense_3 (Dense)              (None, 1)                 129       \n",
      "=================================================================\n",
      "Total params: 2,591,777\n",
      "Trainable params: 2,591,777\n",
      "Non-trainable params: 0\n",
      "_________________________________________________________________\n"
     ]
    }
   ],
   "source": [
    "#Define parameters\n",
    "\n",
    "embedding_dim = 50\n",
    "print(max_length,vocab_size, embedding_dim)\n",
    "\n",
    "\n",
    "#Define model\n",
    "\n",
    "lstm_model = tf.keras.Sequential([\n",
    "    tf.keras.layers.Embedding(vocab_size, embedding_dim, input_length = max_length),\n",
    "    tf.keras.layers.Dropout(0.3),\n",
    "    tf.keras.layers.LSTM(128),\n",
    "    tf.keras.layers.Dropout(0.3),\n",
    "    tf.keras.layers.Dense(1, activation='sigmoid')\n",
    "])\n",
    "\n",
    "lstm_model.compile(loss='binary_crossentropy',optimizer='adam',metrics=['accuracy'])\n",
    "lstm_model.summary()\n"
   ]
  },
  {
   "cell_type": "code",
   "execution_count": null,
   "metadata": {
    "colab": {
     "base_uri": "https://localhost:8080/",
     "height": 35
    },
    "id": "C6PNJz36nRGP",
    "outputId": "85a49b54-6b84-406d-9cb5-fbbc20c9ff08"
   },
   "outputs": [
    {
     "name": "stdout",
     "output_type": "stream",
     "text": [
      "22500/22500 [==============================] - 17999s 800ms/step - loss: 0.1716 - accuracy: 0.9348 - val_loss: 0.1353 - val_accuracy: 0.9500\n"
     ]
    }
   ],
   "source": [
    "#Fit model\n",
    "\n",
    "history = lstm_model.fit(train_texts, \n",
    "                    train_labels, \n",
    "                    batch_size=128,\n",
    "                    epochs=1,\n",
    "                    validation_data=(val_texts, val_labels))"
   ]
  },
  {
   "cell_type": "code",
   "execution_count": null,
   "metadata": {
    "id": "NY2upbOOLSgk"
   },
   "outputs": [],
   "source": [
    "#Save model to drive\n",
    "\n",
    "lstm_model.save('/content/drive/MyDrive/lstm_model.hdf5')"
   ]
  },
  {
   "cell_type": "code",
   "execution_count": null,
   "metadata": {
    "colab": {
     "base_uri": "https://localhost:8080/",
     "height": 35
    },
    "id": "X5r854I_06-4",
    "outputId": "999d3aeb-20b8-47f5-a0da-a8ac67418954",
    "scrolled": true
   },
   "outputs": [
    {
     "data": {
      "text/plain": [
       "array([[0.62229043]], dtype=float32)"
      ]
     },
     "execution_count": 61,
     "metadata": {
      "tags": []
     },
     "output_type": "execute_result"
    }
   ],
   "source": [
    "#Test a user defined sentence\n",
    "\n",
    "sample = ['vary gud']\n",
    "sample = tokenizer.texts_to_sequences(sample)\n",
    "sample = pad_sequences(sample, maxlen=max_length, truncating=trunc_type)\n",
    "\n",
    "lstm_model.predict(sample)"
   ]
  },
  {
   "cell_type": "code",
   "execution_count": null,
   "metadata": {
    "id": "fnqxpgZ8S4Y6"
   },
   "outputs": [],
   "source": [
    "#Evaluate on test data\n",
    "\n",
    "with open('/content/drive/MyDrive/test_texts', 'rb') as f:\n",
    "  test_texts = pickle.load(f)\n",
    "\n",
    "with open('/content/drive/MyDrive/test_labels', 'rb') as f:\n",
    "  test_labels = pickle.load(f)"
   ]
  },
  {
   "cell_type": "code",
   "execution_count": null,
   "metadata": {
    "id": "6xmFO0I7UT0G"
   },
   "outputs": [],
   "source": [
    "#Tokenize test sentences\n",
    "\n",
    "test_texts = tokenizer.texts_to_sequences(test_texts)"
   ]
  },
  {
   "cell_type": "code",
   "execution_count": null,
   "metadata": {
    "id": "mBMZEqfEUpFj"
   },
   "outputs": [],
   "source": [
    "#Padd test sentences to get consistent length\n",
    "\n",
    "test_texts = pad_sequences(test_texts, maxlen=max_length, truncating=trunc_type)"
   ]
  },
  {
   "cell_type": "code",
   "execution_count": null,
   "metadata": {
    "colab": {
     "base_uri": "https://localhost:8080/",
     "height": 54
    },
    "id": "chO02UU0UwEz",
    "outputId": "8ef2dffc-2f41-43e3-e64b-df4b8458f9f5"
   },
   "outputs": [
    {
     "name": "stdout",
     "output_type": "stream",
     "text": [
      "3125/3125 [==============================] - 753s 241ms/step - loss: 0.1372 - accuracy: 0.9493\n"
     ]
    },
    {
     "data": {
      "text/plain": [
       "[0.1372213065624237, 0.9493324756622314]"
      ]
     },
     "execution_count": 40,
     "metadata": {
      "tags": []
     },
     "output_type": "execute_result"
    }
   ],
   "source": [
    "#Evaluate\n",
    "\n",
    "lstm_model.evaluate(test_texts, test_labels, batch_size=128)"
   ]
  },
  {
   "cell_type": "code",
   "execution_count": null,
   "metadata": {
    "id": "sJlrFsXjVL9O"
   },
   "outputs": [],
   "source": [
    "test_predictions = lstm_model.predict(test_texts)"
   ]
  },
  {
   "cell_type": "code",
   "execution_count": null,
   "metadata": {
    "id": "4A7gj-5Pcalv"
   },
   "outputs": [],
   "source": [
    "test_predictions = [x[0] for x in test_predictions]"
   ]
  },
  {
   "cell_type": "code",
   "execution_count": null,
   "metadata": {
    "colab": {
     "base_uri": "https://localhost:8080/",
     "height": 54
    },
    "id": "aMUZ_1E0Ya6X",
    "outputId": "9ff09aae-81d9-4707-8e46-2c8cfadfd6fc"
   },
   "outputs": [
    {
     "name": "stdout",
     "output_type": "stream",
     "text": [
      "[[189737  10263]\n",
      " [ 10004 189996]]\n"
     ]
    }
   ],
   "source": [
    "test_predictions = [0 if result<0.5 else 1 for result in test_predictions ]\n",
    "from sklearn.metrics import confusion_matrix\n",
    "cm = confusion_matrix(test_labels, test_predictions)\n",
    "print(cm)"
   ]
  },
  {
   "cell_type": "code",
   "execution_count": null,
   "metadata": {
    "colab": {
     "base_uri": "https://localhost:8080/",
     "height": 35
    },
    "id": "HL2gPpP_b48x",
    "outputId": "812ec7d2-05b1-4155-b556-119177e87357"
   },
   "outputs": [
    {
     "data": {
      "text/plain": [
       "0.9487513669797613"
      ]
     },
     "execution_count": 55,
     "metadata": {
      "tags": []
     },
     "output_type": "execute_result"
    }
   ],
   "source": [
    "from sklearn.metrics import precision_score\n",
    "precision_score(test_labels, test_predictions, average='binary')"
   ]
  },
  {
   "cell_type": "code",
   "execution_count": null,
   "metadata": {
    "colab": {
     "base_uri": "https://localhost:8080/",
     "height": 35
    },
    "id": "Jmb9TRsbdeHY",
    "outputId": "1a01833a-a58f-442c-909c-9d9e6cf2ea4b"
   },
   "outputs": [
    {
     "data": {
      "text/plain": [
       "0.94998"
      ]
     },
     "execution_count": 54,
     "metadata": {
      "tags": []
     },
     "output_type": "execute_result"
    }
   ],
   "source": [
    "from sklearn.metrics import recall_score\n",
    "recall_score(test_labels, test_predictions, average='binary')"
   ]
  },
  {
   "cell_type": "code",
   "execution_count": null,
   "metadata": {
    "colab": {
     "base_uri": "https://localhost:8080/",
     "height": 35
    },
    "id": "NpdTm32IdwbF",
    "outputId": "ba500672-75e6-410c-8a13-6d132696877a"
   },
   "outputs": [
    {
     "data": {
      "text/plain": [
       "0.9493652859773296"
      ]
     },
     "execution_count": 53,
     "metadata": {
      "tags": []
     },
     "output_type": "execute_result"
    }
   ],
   "source": [
    "from sklearn.metrics import f1_score\n",
    "f1_score(test_labels, test_predictions)"
   ]
  }
 ],
 "metadata": {
  "accelerator": "TPU",
  "colab": {
   "collapsed_sections": [],
   "name": "Sentiment Analysis LSTM.ipynb",
   "provenance": []
  },
  "kernelspec": {
   "display_name": "Python 3",
   "language": "python",
   "name": "python3"
  },
  "language_info": {
   "codemirror_mode": {
    "name": "ipython",
    "version": 3
   },
   "file_extension": ".py",
   "mimetype": "text/x-python",
   "name": "python",
   "nbconvert_exporter": "python",
   "pygments_lexer": "ipython3",
   "version": "3.8.5"
  }
 },
 "nbformat": 4,
 "nbformat_minor": 1
}
